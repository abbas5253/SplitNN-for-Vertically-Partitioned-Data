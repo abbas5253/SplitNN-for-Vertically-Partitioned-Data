{
 "cells": [
  {
   "cell_type": "code",
   "execution_count": 1,
   "metadata": {},
   "outputs": [],
   "source": [
    "epochs= 25"
   ]
  },
  {
   "cell_type": "markdown",
   "metadata": {},
   "source": [
    "# SplitNN for Vertically Partitioned Data\n",
    "\n",
    "Recap: The previous tutorial looked at building a basic SplitNN, where an NN was split into two segments on two seperate hosts. However, what if clients have multi-modal multi-institutional collaboration?\n",
    "\n",
    "<b>What is Vertically Partitioned Data?</b> Data is said to be vertically partitioned when several organizations own different attributes or modalities of information for the same set of entities.\n",
    "\n",
    "<b>Why use Partitioned Data?</b> Partition allows for orgnizations holding different modalities of data to learn distributed models without data sharing. Partitioning scheme is traditionally used to reduce the size of data by splitting and distribute to each client.\n",
    " \n",
    "<b>Description</b>This configuration allows for multiple clients holding different modalities of data to learn distributed models without data sharing. As a concrete example we walkthrough the case where radiology centers collaborate with pathology test centers and a server for disease diagnosis. Radiology centers holding imaging data modalities train a partial model upto the cut layer. In the same way the pathology test center having patient test results trains a partial model upto its own cut layer. The outputs at the cut layer from both these centers are then concatenated and sent to the disease diagnosis server that trains the rest of the model. This process is continued back and forth to complete the forward and backward propagations in order to train the distributed deep learning model without sharing each others raw data. In this tutorial, we split a single flatten image into two segments to mimic different modalities of data, you can also split it into arbitrary number.\n",
    "\n",
    "<img src=\"config_1.png\" width=\"40%\">\n",
    "\n",
    "In this tutorial, we demonstrate the SplitNN architecture with 2 segments[[1](https://arxiv.org/abs/1812.00564)].This time:\n",
    "\n",
    "- <b>$Client_{1}$</b>\n",
    "    - Has Model Segment 1\n",
    "    - Has the handwritten images segment 1\n",
    "- <b>$Client_{2}$</b>\n",
    "    - Has model Segment 1\n",
    "    - Has the handwritten images segment 2\n",
    "- <b>$Server$</b> \n",
    "    - Has Model Segment 2\n",
    "    - Has the image labels\n",
    "    \n",
    "Author:\n",
    "- Abbas Ismail - github：[@abbas5253](https://github.com/abbas5253)"
   ]
  },
  {
   "cell_type": "code",
   "execution_count": 2,
   "metadata": {},
   "outputs": [
    {
     "name": "stderr",
     "output_type": "stream",
     "text": [
      "Falling back to insecure randomness since the required custom op could not be found for the installed version of TensorFlow. Fix this by compiling custom ops. Missing file was '/home/ab_53/miniconda3/envs/PySyft/lib/python3.7/site-packages/tf_encrypted/operations/secure_random/secure_random_module_tf_1.15.3.so'\n"
     ]
    },
    {
     "name": "stdout",
     "output_type": "stream",
     "text": [
      "WARNING:tensorflow:From /home/ab_53/miniconda3/envs/PySyft/lib/python3.7/site-packages/tf_encrypted/session.py:24: The name tf.Session is deprecated. Please use tf.compat.v1.Session instead.\n",
      "\n"
     ]
    }
   ],
   "source": [
    "import torch\n",
    "from torchvision import datasets, transforms\n",
    "from torch import nn, optim\n",
    "import syft as sy\n",
    "import numpy as np\n",
    "\n",
    "hook = sy.TorchHook(torch)\n",
    "\n",
    "from distribute_data import Distribute_MNIST"
   ]
  },
  {
   "cell_type": "code",
   "execution_count": 3,
   "metadata": {},
   "outputs": [],
   "source": [
    "# Data preprocessing\n",
    "transform = transforms.Compose([transforms.ToTensor(),\n",
    "                              transforms.Normalize((0.5,), (0.5,)),\n",
    "                              ])\n",
    "trainset = datasets.MNIST('mnist', download=True, train=True, transform=transform)\n",
    "trainloader = torch.utils.data.DataLoader(trainset, batch_size=64, shuffle=True)\n",
    "\n",
    "# create some workers\n",
    "client_1 = sy.VirtualWorker(hook, id=\"client_1\")\n",
    "client_2 = sy.VirtualWorker(hook, id=\"client_2\")\n",
    "\n",
    "server = sy.VirtualWorker(hook, id= \"server\") \n",
    "\n",
    "data_owners = (client_1, client_2)\n",
    "model_locations = [client_1, client_2, server]\n",
    "\n",
    "#Split each image and send one part to client_1, and other to client_2\n",
    "mnist = Distribute_MNIST(data_owners=data_owners, data_loader=trainloader)\n",
    "\n",
    "#list of dict each having structure [{\"alice\":pointer to alice's image segment., \"bob\": pointer to bob's image segement},...] \n",
    "data_pointers = mnist.data_pointer\n",
    "labels = mnist.labels"
   ]
  },
  {
   "cell_type": "code",
   "execution_count": 4,
   "metadata": {},
   "outputs": [],
   "source": [
    "input_size= [14*14, 14*14]\n",
    "hidden_sizes= {\"client_1\": [32, 64], \"client_2\":[32, 64], \"server\":[128, 64]}\n",
    "\n",
    "#create model segment for each worker\n",
    "models = {\n",
    "    \"client_1\": nn.Sequential(\n",
    "                nn.Linear(input_size[0], hidden_sizes[\"client_1\"][0]),\n",
    "                nn.ReLU(),\n",
    "                nn.Linear(hidden_sizes[\"client_1\"][0], hidden_sizes[\"client_1\"][1]),\n",
    "                nn.ReLU(),\n",
    "    ),\n",
    "    \"client_2\":  nn.Sequential(\n",
    "                nn.Linear(input_size[1], hidden_sizes[\"client_2\"][0]),\n",
    "                nn.ReLU(),\n",
    "                nn.Linear(hidden_sizes[\"client_2\"][0], hidden_sizes[\"client_2\"][1]),\n",
    "                nn.ReLU(),\n",
    "    ),\n",
    "    \"server\": nn.Sequential(\n",
    "                nn.Linear(hidden_sizes[\"server\"][0], hidden_sizes[\"server\"][1]),\n",
    "                nn.ReLU(),\n",
    "                nn.Linear(hidden_sizes[\"server\"][1], 10),\n",
    "                nn.LogSoftmax(dim=1)\n",
    "    )\n",
    "}\n",
    "\n",
    "\n",
    "\n",
    "# Create optimisers for each segment and link to their segment\n",
    "optimizers = [\n",
    "    optim.SGD(models[location.id].parameters(), lr=0.05,)\n",
    "    for location in model_locations\n",
    "]\n",
    "\n",
    "\n",
    "\n",
    "for location in model_locations:\n",
    "    models[location.id].send(location)"
   ]
  },
  {
   "cell_type": "code",
   "execution_count": 5,
   "metadata": {},
   "outputs": [],
   "source": [
    "def train(data_pointer, target, data_owners, models, optimizers, server):\n",
    "    \n",
    "    for opt in optimizers:\n",
    "        opt.zero_grad()\n",
    "     \n",
    "    #clients output specified by the id\n",
    "    client_output = {}\n",
    "    remote_outputs = []\n",
    "    \n",
    "    for owner in data_owners:\n",
    "        client_output[owner.id] = models[owner.id](data_pointer[owner.id].reshape([-1, 14*14]))\n",
    "        remote_outputs.append(\n",
    "            client_output[owner.id].move(server)\n",
    "        )\n",
    "    \n",
    "    server_input = torch.cat(remote_outputs, 1)\n",
    "    pred = models[\"server\"](server_input)\n",
    "    \n",
    "    criterion = nn.NLLLoss()\n",
    "    loss = criterion(pred, target.reshape(-1, 64)[0])\n",
    "    \n",
    "    loss.backward()\n",
    "\n",
    "    for opt in optimizers:\n",
    "        opt.step()\n",
    "        \n",
    "    return loss.detach().get()"
   ]
  },
  {
   "cell_type": "code",
   "execution_count": 6,
   "metadata": {},
   "outputs": [
    {
     "name": "stdout",
     "output_type": "stream",
     "text": [
      "Epoch 0 - Training loss: 2.0991368293762207\n",
      "Epoch 1 - Training loss: 1.551032304763794\n",
      "Epoch 2 - Training loss: 1.2819230556488037\n",
      "Epoch 3 - Training loss: 1.1513397693634033\n",
      "Epoch 4 - Training loss: 1.0738531351089478\n",
      "Epoch 5 - Training loss: 1.021932601928711\n",
      "Epoch 6 - Training loss: 0.9837340116500854\n",
      "Epoch 7 - Training loss: 0.9530386924743652\n",
      "Epoch 8 - Training loss: 0.9278602004051208\n",
      "Epoch 9 - Training loss: 0.9066053032875061\n",
      "Epoch 10 - Training loss: 0.8880205750465393\n",
      "Epoch 11 - Training loss: 0.8713458180427551\n",
      "Epoch 12 - Training loss: 0.8560830354690552\n",
      "Epoch 13 - Training loss: 0.8419126272201538\n",
      "Epoch 14 - Training loss: 0.8285958170890808\n",
      "Epoch 15 - Training loss: 0.8158738017082214\n",
      "Epoch 16 - Training loss: 0.8035011291503906\n",
      "Epoch 17 - Training loss: 0.7914702892303467\n",
      "Epoch 18 - Training loss: 0.7797912955284119\n",
      "Epoch 19 - Training loss: 0.7685437798500061\n",
      "Epoch 20 - Training loss: 0.7577381134033203\n",
      "Epoch 21 - Training loss: 0.7475399374961853\n",
      "Epoch 22 - Training loss: 0.7378935813903809\n",
      "Epoch 23 - Training loss: 0.728649914264679\n",
      "Epoch 24 - Training loss: 0.7197977900505066\n"
     ]
    }
   ],
   "source": [
    "for i in range(epochs):\n",
    "    running_loss = 0\n",
    "    for data_ptr, label in zip(data_pointers[:-1], labels[:-1]):\n",
    "        label = label.send(server)\n",
    "        loss = train(data_ptr, label, data_owners, models, optimizers, server)\n",
    "        #print(loss)\n",
    "        running_loss += loss\n",
    "\n",
    "    else:\n",
    "        print(\"Epoch {} - Training loss: {}\".format(i, running_loss/len(trainloader)))"
   ]
  },
  {
   "cell_type": "code",
   "execution_count": null,
   "metadata": {},
   "outputs": [],
   "source": []
  }
 ],
 "metadata": {
  "kernelspec": {
   "display_name": "Python 3",
   "language": "python",
   "name": "python3"
  },
  "language_info": {
   "codemirror_mode": {
    "name": "ipython",
    "version": 3
   },
   "file_extension": ".py",
   "mimetype": "text/x-python",
   "name": "python",
   "nbconvert_exporter": "python",
   "pygments_lexer": "ipython3",
   "version": "3.7.7"
  }
 },
 "nbformat": 4,
 "nbformat_minor": 4
}
